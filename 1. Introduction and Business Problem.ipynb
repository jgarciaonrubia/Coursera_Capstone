{
 "cells": [
  {
   "cell_type": "markdown",
   "metadata": {},
   "source": [
    "# Capstone Project - The Battle of Neighborhoods (Week 1)\n",
    "\n",
    "### Introduction/Business Problem\n",
    "\n",
    "New York City is the most populated and cosmopolitan city in the United States, as well as the world's leading business center. It has a very favourable environment for business and trade both nationally and internationally. The city is a cluster of headquarters of multinational companies, mainly in the area of banking and finance, both nationally and internationally.\n",
    "For all the above reasons, it is an optimal and very competitive environment for the development of new companies and the expansion of those that wish to reach higher levels. However, prices per square meter are among the highest in the world, so to reduce business investment risks, it is necessary to invest optimally to achieve the objectives and reduce risks in obtaining profitable operating ratios and margins.\n",
    "\n",
    "The hospitality sector is very broad and culturally diverse in New York City. Its variety of international cuisines due to the high number of immigrants residing and visiting the city on business frequently, such as\n",
    "- Asian restaurants.\n",
    "- Italian restaurants.\n",
    "- Middle Eastern restaurants.\n",
    "- Central and Eastern European restaurants.\n",
    "- Jewish restaurants.\n",
    "- Haute cuisine restaurants.\n",
    "- Fast food restaurants.\n",
    "\n",
    "Among many others.\n",
    "\n",
    "The success of the business implementation depends on the location of the business and the ability to replicate it in new areas using the data. Therefore, the objective would be to locate and recommend the most optimal address to open a restaurant based on the casuistry of the area."
   ]
  }
 ],
 "metadata": {
  "kernelspec": {
   "display_name": "Python 3",
   "language": "python",
   "name": "python3"
  },
  "language_info": {
   "codemirror_mode": {
    "name": "ipython",
    "version": 3
   },
   "file_extension": ".py",
   "mimetype": "text/x-python",
   "name": "python",
   "nbconvert_exporter": "python",
   "pygments_lexer": "ipython3",
   "version": "3.7.4"
  }
 },
 "nbformat": 4,
 "nbformat_minor": 2
}
