{
 "cells": [
  {
   "cell_type": "markdown",
   "metadata": {},
   "source": [
    "# Capstone Project - The Battle of Neighborhoods (Week 1)\n",
    "\n",
    "### Data\n",
    "\n",
    "##### Location: New York City\n",
    "\n",
    "Data 1. 2014 New York City Neighborhood Names from NYU: \n",
    "https://geo.nyu.edu/catalog/nyu_2451_34572\n",
    "\n",
    "Data 2. DOHMH Farmers Markets from NYC: \n",
    "https://data.cityofnewyork.us/dataset/DOHMH-Farmers-Markets-and-Food-Boxes/8vwk-6iz2\n",
    "\n",
    "Data 3. New York City from Wikipedia: \n",
    "https://en.wikipedia.org/wiki/New_York_City\n",
    "\n",
    "Data 4. Economy of New York City from Wikipedia: \n",
    "https://en.wikipedia.org/wiki/Economy_of_New_York_City\n",
    "\n",
    "Data 5. New York City Portal from Wikipedia: \n",
    "https://en.wikipedia.org/wiki/Portal:New_York_City\n",
    "\n",
    "Data 6. Cuisine of New York City from Wikipedia: \n",
    "https://en.wikipedia.org/wiki/Cuisine_of_New_York_City\n",
    "\n",
    "Data 7. List of Michelin starred restaurants in New York City from Wikipedia: https://en.wikipedia.org/wiki/List_of_Michelin_starred_restaurants_in_New_York_City\n",
    "\n",
    "Data 8. Foursquare API."
   ]
  }
 ],
 "metadata": {
  "kernelspec": {
   "display_name": "Python 3",
   "language": "python",
   "name": "python3"
  },
  "language_info": {
   "codemirror_mode": {
    "name": "ipython",
    "version": 3
   },
   "file_extension": ".py",
   "mimetype": "text/x-python",
   "name": "python",
   "nbconvert_exporter": "python",
   "pygments_lexer": "ipython3",
   "version": "3.7.4"
  }
 },
 "nbformat": 4,
 "nbformat_minor": 2
}
